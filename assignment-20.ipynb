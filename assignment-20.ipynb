{
 "cells": [
  {
   "cell_type": "code",
   "execution_count": null,
   "id": "0113a479",
   "metadata": {},
   "outputs": [],
   "source": [
    "1. Create a function that takes a list of strings and integers, and filters out the list so that it\n",
    "returns a list of integers only."
   ]
  },
  {
   "cell_type": "code",
   "execution_count": 1,
   "id": "34d591cb",
   "metadata": {},
   "outputs": [
    {
     "name": "stdout",
     "output_type": "stream",
     "text": [
      "[4, 20, 45, 200]\n"
     ]
    }
   ],
   "source": [
    "def filters(l):\n",
    "    filtered=[]\n",
    "    for i in l:\n",
    "        if type(i) == int:\n",
    "            filtered.append(i)\n",
    "    \n",
    "    return filtered\n",
    "\n",
    "print(filters([\"abc\",\"pqr\",4,20,\"xyz\",45,200]))\n",
    "    "
   ]
  },
  {
   "cell_type": "code",
   "execution_count": null,
   "id": "9d7b83f8",
   "metadata": {},
   "outputs": [],
   "source": [
    "2. Given a list of numbers, create a function which returns the list but with each elements\n",
    "index in the list added to itself. This means you add 0 to the number at index 0, add 1 to the\n",
    "number at index 1, etc..."
   ]
  },
  {
   "cell_type": "code",
   "execution_count": 3,
   "id": "8144b5c3",
   "metadata": {},
   "outputs": [
    {
     "name": "stdout",
     "output_type": "stream",
     "text": [
      "[5, 5, 5, 5, 5]\n"
     ]
    }
   ],
   "source": [
    "def indexes(l):\n",
    "    l1=[]\n",
    "    for i in l:\n",
    "        l1.append(l.index(i)+i)\n",
    "    \n",
    "    return l1\n",
    "\n",
    "print(indexes([5,4,3,2,1]))"
   ]
  },
  {
   "cell_type": "code",
   "execution_count": null,
   "id": "6bde7ef5",
   "metadata": {},
   "outputs": [],
   "source": [
    "3. Create a function that takes the height and radius of a cone as arguments and returns the\n",
    "volume of the cone rounded to the nearest hundredth. See the resources tab for the formula."
   ]
  },
  {
   "cell_type": "code",
   "execution_count": 13,
   "id": "e23db89e",
   "metadata": {},
   "outputs": [
    {
     "name": "stdout",
     "output_type": "stream",
     "text": [
      "12.56\n"
     ]
    }
   ],
   "source": [
    "def volume(h,r):\n",
    "    \n",
    "    v=(3.14*r*r)*(h/3)\n",
    "    return round(v,2)\n",
    "\n",
    "vol = volume(3,2)\n",
    "print(f\"{vol:.2f}\")\n",
    "    \n",
    "    \n",
    "    "
   ]
  },
  {
   "cell_type": "code",
   "execution_count": null,
   "id": "5bcf1d74",
   "metadata": {},
   "outputs": [],
   "source": [
    "4. Write a function that gives the number of dots with its corresponding triangle number of the\n",
    "sequence."
   ]
  },
  {
   "cell_type": "code",
   "execution_count": 15,
   "id": "cdea9565",
   "metadata": {},
   "outputs": [
    {
     "name": "stdout",
     "output_type": "stream",
     "text": [
      "1\n",
      "21\n",
      "23220\n"
     ]
    }
   ],
   "source": [
    "def triangle(n):\n",
    "    a = 0\n",
    "    for i in range(n+1):\n",
    "        a+=i\n",
    "    return a\n",
    "\n",
    "print(triangle(1))\n",
    "print(triangle(6))\n",
    "print(triangle(215))\n",
    "        \n",
    "    "
   ]
  },
  {
   "cell_type": "code",
   "execution_count": null,
   "id": "91397119",
   "metadata": {},
   "outputs": [],
   "source": [
    "5. Create a function that takes a list of numbers between 1 and 10 (excluding one number) and\n",
    "returns the missing number."
   ]
  },
  {
   "cell_type": "code",
   "execution_count": 27,
   "id": "cb5fa444",
   "metadata": {},
   "outputs": [
    {
     "name": "stdout",
     "output_type": "stream",
     "text": [
      "6\n"
     ]
    }
   ],
   "source": [
    "def missing(l):\n",
    "    \n",
    "    l.sort()\n",
    "    for i in l:\n",
    "        n = i + 1\n",
    "        if not n in l:\n",
    "            return n\n",
    "            \n",
    "print(missing([1,2,3,4,5,7,8,9,10]))\n",
    "            "
   ]
  },
  {
   "cell_type": "code",
   "execution_count": null,
   "id": "7fdb48b1",
   "metadata": {},
   "outputs": [],
   "source": []
  }
 ],
 "metadata": {
  "kernelspec": {
   "display_name": "Python 3 (ipykernel)",
   "language": "python",
   "name": "python3"
  },
  "language_info": {
   "codemirror_mode": {
    "name": "ipython",
    "version": 3
   },
   "file_extension": ".py",
   "mimetype": "text/x-python",
   "name": "python",
   "nbconvert_exporter": "python",
   "pygments_lexer": "ipython3",
   "version": "3.9.12"
  }
 },
 "nbformat": 4,
 "nbformat_minor": 5
}
