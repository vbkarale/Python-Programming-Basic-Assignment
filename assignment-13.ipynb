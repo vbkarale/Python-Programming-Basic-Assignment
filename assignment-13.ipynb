{
 "cells": [
  {
   "cell_type": "code",
   "execution_count": null,
   "id": "20cff49f",
   "metadata": {},
   "outputs": [],
   "source": [
    "1. Write a program that calculates and prints the value according to the given formula:\n",
    "Q = Square root of [(2 * C * D)/H]\n",
    "Following are the fixed values of C and H:\n",
    "C is 50. H is 30."
   ]
  },
  {
   "cell_type": "code",
   "execution_count": 2,
   "id": "3c8fa4d2",
   "metadata": {},
   "outputs": [
    {
     "name": "stdout",
     "output_type": "stream",
     "text": [
      "Enter comma seperated three digit100,150,180\n",
      "18 22 24 "
     ]
    }
   ],
   "source": [
    "import math\n",
    "c = 50\n",
    "h = 30\n",
    "d = input(\"Enter comma seperated three digit\")\n",
    "l = map(int, d.split(','))\n",
    "\n",
    "for i in l:\n",
    "    q = int(math.sqrt((2*c*i)/h))\n",
    "    print(q, end=' ')\n"
   ]
  },
  {
   "cell_type": "code",
   "execution_count": null,
   "id": "da59357a",
   "metadata": {},
   "outputs": [],
   "source": [
    "2. Write a program which takes 2 digits, X,Y as input and generates a 2-dimensional array. The\n",
    "element value in the i-th row and j-th column of the array should be i*j."
   ]
  },
  {
   "cell_type": "code",
   "execution_count": 13,
   "id": "3cdc5d42",
   "metadata": {},
   "outputs": [
    {
     "name": "stdout",
     "output_type": "stream",
     "text": [
      "enter a no 3\n",
      "enter a no 5\n",
      "[[0, 0, 0, 0, 0], [0, 1, 2, 3, 4], [0, 2, 4, 6, 8]]\n"
     ]
    }
   ],
   "source": [
    "x = int(input(\"enter a no \"))\n",
    "y = int(input(\"enter a no \"))\n",
    "l = [[i*j for j in range(y)]for i in range(x)]\n",
    "print(l)\n",
    "        \n",
    "\n",
    "        \n",
    "        \n",
    "        \n",
    "    "
   ]
  },
  {
   "cell_type": "code",
   "execution_count": null,
   "id": "ee08494a",
   "metadata": {},
   "outputs": [],
   "source": [
    "3. Write a program that accepts a comma separated sequence of words as input and prints the\n",
    "words in a comma-separated sequence after sorting them alphabetically."
   ]
  },
  {
   "cell_type": "code",
   "execution_count": 16,
   "id": "d220d102",
   "metadata": {},
   "outputs": [
    {
     "name": "stdout",
     "output_type": "stream",
     "text": [
      "enter comma seperated wordswithout,hello,bag,world\n",
      "bag,hello,without,world\n"
     ]
    }
   ],
   "source": [
    "words = input(\"enter comma seperated words\")\n",
    "l = [word for word in words.split(',')]\n",
    "\n",
    "print(\",\".join(sorted(l)))"
   ]
  },
  {
   "cell_type": "code",
   "execution_count": null,
   "id": "9329ee66",
   "metadata": {},
   "outputs": [],
   "source": [
    "4. Write a program that accepts a sequence of whitespace separated words as input and prints\n",
    "the words after removing all duplicate words and sorting them alphanumerically."
   ]
  },
  {
   "cell_type": "code",
   "execution_count": 20,
   "id": "e86003f3",
   "metadata": {},
   "outputs": [
    {
     "name": "stdout",
     "output_type": "stream",
     "text": [
      "enter whitespace seperated words hello world and practice makes perfect and hello world again\n",
      "again and hello makes perfect practice world\n"
     ]
    }
   ],
   "source": [
    "words = input(\"enter whitespace seperated words \")\n",
    "l = [word for word in words.split(' ')]\n",
    "\n",
    "print(\" \".join(sorted(set(l))))"
   ]
  },
  {
   "cell_type": "code",
   "execution_count": null,
   "id": "526935db",
   "metadata": {},
   "outputs": [],
   "source": [
    "5. Write a program that accepts a sentence and calculate the number of letters and digits."
   ]
  },
  {
   "cell_type": "code",
   "execution_count": 21,
   "id": "1b0446f5",
   "metadata": {},
   "outputs": [
    {
     "name": "stdout",
     "output_type": "stream",
     "text": [
      "Input a stringhello world! 123\n",
      "Letters 10\n",
      "Digits 3\n"
     ]
    }
   ],
   "source": [
    "s = input(\"Input a string\")\n",
    "d=l=0\n",
    "for c in s:\n",
    "    if c.isdigit():\n",
    "        d=d+1\n",
    "    elif c.isalpha():\n",
    "        l=l+1\n",
    "    else:\n",
    "        pass\n",
    "print(\"LETTERS\", l)\n",
    "print(\"DIGITS\", d)"
   ]
  },
  {
   "cell_type": "code",
   "execution_count": null,
   "id": "be04a76d",
   "metadata": {},
   "outputs": [],
   "source": [
    "6. A website requires the users to input username and password to register. Write a program to\n",
    "check the validity of password input by users."
   ]
  },
  {
   "cell_type": "code",
   "execution_count": 10,
   "id": "1c28e77d",
   "metadata": {},
   "outputs": [
    {
     "name": "stdout",
     "output_type": "stream",
     "text": [
      "enter passwordABd1234@1,a F1#,2w3E*,2We3345\n",
      "Found match: ABd1234@1\n"
     ]
    }
   ],
   "source": [
    "import re\n",
    "\n",
    "pwd = input(\"enter password\")\n",
    "regex = (\"^(?=.*[a-z])(?=.*[A-Z])(?=.*[0-9])(?=.*[@#$]).+$\")\n",
    "pattern = re.compile(regex)\n",
    "     \n",
    "\n",
    "for strr in pwd.split(','):\n",
    "    count = len(strr)\n",
    "    if pattern.fullmatch(strr) is not None and (count >= 6 and count <= 12):\n",
    "        print(\"Found match: \" + strr)\n",
    "\n"
   ]
  },
  {
   "cell_type": "code",
   "execution_count": null,
   "id": "0156e5d3",
   "metadata": {},
   "outputs": [],
   "source": []
  }
 ],
 "metadata": {
  "kernelspec": {
   "display_name": "Python 3 (ipykernel)",
   "language": "python",
   "name": "python3"
  },
  "language_info": {
   "codemirror_mode": {
    "name": "ipython",
    "version": 3
   },
   "file_extension": ".py",
   "mimetype": "text/x-python",
   "name": "python",
   "nbconvert_exporter": "python",
   "pygments_lexer": "ipython3",
   "version": "3.9.7"
  }
 },
 "nbformat": 4,
 "nbformat_minor": 5
}
