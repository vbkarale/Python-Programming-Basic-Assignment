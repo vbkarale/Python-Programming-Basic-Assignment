{
 "cells": [
  {
   "cell_type": "code",
   "execution_count": null,
   "id": "8b256959",
   "metadata": {},
   "outputs": [],
   "source": [
    "1. Return an ordered list with numbers in the range that are divisible by the third parameter n.\n",
    "Return an empty list if there are no numbers that are divisible by n."
   ]
  },
  {
   "cell_type": "code",
   "execution_count": 15,
   "id": "be15090c",
   "metadata": {},
   "outputs": [
    {
     "name": "stdout",
     "output_type": "stream",
     "text": [
      "[3, 6, 9]\n"
     ]
    }
   ],
   "source": [
    "def list_operation(x,y,n):\n",
    "    l=[]\n",
    "    for i in range(x,y):\n",
    "        if i % n == 0:\n",
    "            l.append(i)\n",
    "    return l\n",
    "    \n",
    "print(list_operation(1,10,3))"
   ]
  },
  {
   "cell_type": "code",
   "execution_count": null,
   "id": "9a7472a7",
   "metadata": {},
   "outputs": [],
   "source": [
    "2. Create a function that takes in two lists and returns True if the second list follows the first list\n",
    "by one element, and False otherwise. In other words, determine if the second list is the first\n",
    "list shifted to the right by 1."
   ]
  },
  {
   "cell_type": "code",
   "execution_count": 19,
   "id": "2a90ea71",
   "metadata": {},
   "outputs": [
    {
     "name": "stdout",
     "output_type": "stream",
     "text": [
      "False\n",
      "True\n"
     ]
    }
   ],
   "source": [
    "def simon_says(l1,l2):\n",
    "    c = 0\n",
    "    l = len(l1)-1\n",
    "    \n",
    "    for i in range(0,l):\n",
    "        j = i\n",
    "        i+=1\n",
    "        if l2[i] == l1[j]:\n",
    "            c+=1\n",
    "\n",
    "    if c == l:\n",
    "        return True\n",
    "    else:\n",
    "        return False\n",
    "\n",
    "print(simon_says([1,2,3,4,5],[5,5,1,2,3]))\n",
    "print(simon_says([1,2,3,4,5],[0,1,2,3,4]))\n",
    "    "
   ]
  },
  {
   "cell_type": "code",
   "execution_count": null,
   "id": "9e0a9c35",
   "metadata": {},
   "outputs": [],
   "source": [
    "3. A group of friends have decided to start a secret society. The name will be the first letter of\n",
    "each of their names, sorted in alphabetical order.\n",
    "Create a function that takes in a list of names and returns the name of the secret society."
   ]
  },
  {
   "cell_type": "code",
   "execution_count": 28,
   "id": "72d5776a",
   "metadata": {},
   "outputs": [
    {
     "name": "stdout",
     "output_type": "stream",
     "text": [
      "AMS\n",
      "CHLN\n"
     ]
    }
   ],
   "source": [
    "def society_name(l):\n",
    "    s = \"\"\n",
    "    for i in l:\n",
    "        s = s + i[0]\n",
    "    return \"\".join(sorted(s))\n",
    "    \n",
    "    \n",
    "print(society_name([\"Adam\",\"Sarah\",\"Malcolm\"]))\n",
    "print(society_name([\"Harry\",\"Newt\",\"Luna\",\"Cho\"]))"
   ]
  },
  {
   "cell_type": "code",
   "execution_count": null,
   "id": "00e4c484",
   "metadata": {},
   "outputs": [],
   "source": [
    "4. An isogram is a word that has no duplicate letters. Create a function that takes a string and\n",
    "returns either True or False depending on whether or not its an isogram."
   ]
  },
  {
   "cell_type": "code",
   "execution_count": 51,
   "id": "49e3b2e9",
   "metadata": {},
   "outputs": [
    {
     "name": "stdout",
     "output_type": "stream",
     "text": [
      "True\n",
      "False\n"
     ]
    }
   ],
   "source": [
    "import array as arr\n",
    "\n",
    "a = arr.array('i',(0 for i in range(1,256+1)))\n",
    "\n",
    "def is_isogram(s):\n",
    "    c=0\n",
    "    for i in range(0,len(s)):\n",
    "        a[ord(s[i])] += 1\n",
    "        \n",
    "    for i in range(0,256):\n",
    "        if a[i] > 1:\n",
    "            c +=1\n",
    "            break\n",
    "    \n",
    "    if c > 0:\n",
    "        return False\n",
    "    else:\n",
    "        return True\n",
    "    \n",
    "print(is_isogram(\"Algorism\".lower()))    \n",
    "print(is_isogram(\"Consecutive\".lower()))"
   ]
  },
  {
   "cell_type": "code",
   "execution_count": null,
   "id": "b587f46b",
   "metadata": {},
   "outputs": [],
   "source": [
    "5. Create a function that takes a string and returns True or False, depending on whether the\n",
    "characters are in order or not."
   ]
  },
  {
   "cell_type": "code",
   "execution_count": 53,
   "id": "4e5d85c6",
   "metadata": {},
   "outputs": [
    {
     "name": "stdout",
     "output_type": "stream",
     "text": [
      "True\n",
      "False\n"
     ]
    }
   ],
   "source": [
    "def is_in_order(s):\n",
    "    \n",
    "    s2 = s\n",
    "    s2 = \"\".join(sorted(s2))\n",
    "    if s2 == s:\n",
    "        return True\n",
    "    else:\n",
    "        return False\n",
    "    \n",
    "print(is_in_order(\"abc\"))\n",
    "print(is_in_order(\"edabit\"))"
   ]
  },
  {
   "cell_type": "code",
   "execution_count": null,
   "id": "5fa1d3f3",
   "metadata": {},
   "outputs": [],
   "source": []
  }
 ],
 "metadata": {
  "kernelspec": {
   "display_name": "Python 3 (ipykernel)",
   "language": "python",
   "name": "python3"
  },
  "language_info": {
   "codemirror_mode": {
    "name": "ipython",
    "version": 3
   },
   "file_extension": ".py",
   "mimetype": "text/x-python",
   "name": "python",
   "nbconvert_exporter": "python",
   "pygments_lexer": "ipython3",
   "version": "3.9.12"
  }
 },
 "nbformat": 4,
 "nbformat_minor": 5
}
