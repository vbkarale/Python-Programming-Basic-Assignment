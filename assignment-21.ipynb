{
 "cells": [
  {
   "cell_type": "code",
   "execution_count": null,
   "id": "845d32a0",
   "metadata": {},
   "outputs": [],
   "source": [
    "1. Write a function that takes a list and a number as arguments. Add the number to the end of\n",
    "the list, then remove the first element of the list. The function should then return the updated\n",
    "list."
   ]
  },
  {
   "cell_type": "code",
   "execution_count": 4,
   "id": "391af4c6",
   "metadata": {},
   "outputs": [
    {
     "name": "stdout",
     "output_type": "stream",
     "text": [
      "[6, 7, 8, 9, 10]\n"
     ]
    }
   ],
   "source": [
    "def next_in_line(l,no):\n",
    "    \n",
    "    l.append(no)\n",
    "    l.pop(0)\n",
    "    return l\n",
    "\n",
    "print(next_in_line([5,6,7,8,9],10))\n",
    "    "
   ]
  },
  {
   "cell_type": "code",
   "execution_count": null,
   "id": "f29acc5e",
   "metadata": {},
   "outputs": [],
   "source": [
    "2. Create the function that takes a list of dictionaries and returns the sum of peoples budgets."
   ]
  },
  {
   "cell_type": "code",
   "execution_count": 30,
   "id": "996f7676",
   "metadata": {},
   "outputs": [
    {
     "name": "stdout",
     "output_type": "stream",
     "text": [
      "65700\n"
     ]
    }
   ],
   "source": [
    "def get_budgets(l):\n",
    "    sum = 0\n",
    "    for i in l:\n",
    "        sum += i.get(\"budget\")\n",
    "    return sum\n",
    "    \n",
    "\n",
    "    \n",
    "    \n",
    "l = [{\"name\":\"john\",\"age\":21,\"budget\":23000},\n",
    "    {\"name\":\"steve\",\"age\":32,\"budget\":40000},\n",
    "    {\"name\":\"martin\",\"age\":16,\"budget\":2700}]\n",
    "\n",
    "print(get_budgets(l))\n",
    "    "
   ]
  },
  {
   "cell_type": "code",
   "execution_count": null,
   "id": "508f9691",
   "metadata": {},
   "outputs": [],
   "source": [
    "3. Create a function that takes a string and returns a string with its letters in alphabetical order."
   ]
  },
  {
   "cell_type": "code",
   "execution_count": 34,
   "id": "08c25096",
   "metadata": {},
   "outputs": [
    {
     "name": "stdout",
     "output_type": "stream",
     "text": [
      "ehllo\n"
     ]
    }
   ],
   "source": [
    "def alphabet_soup(s):\n",
    "    \n",
    "    return ''.join(sorted(s))\n",
    "\n",
    "print(alphabet_soup(\"hello\"))"
   ]
  },
  {
   "cell_type": "code",
   "execution_count": null,
   "id": "f4823be8",
   "metadata": {},
   "outputs": [],
   "source": [
    "4. Create a function that accepts the principal p, the term in years t, the interest rate r, and the\n",
    "number of compounding periods per year n. The function returns the value at the end of term\n",
    "rounded to the nearest cent."
   ]
  },
  {
   "cell_type": "code",
   "execution_count": 39,
   "id": "1ef483fe",
   "metadata": {},
   "outputs": [
    {
     "name": "stdout",
     "output_type": "stream",
     "text": [
      "18193.97\n"
     ]
    }
   ],
   "source": [
    "def compound_interest(p,t,r,n):\n",
    "    \n",
    "    a = p*(1+r/n)**(n*t)\n",
    "    return round(a,2)\n",
    "    \n",
    "print(compound_interest(10000,10,0.06,12))"
   ]
  },
  {
   "cell_type": "code",
   "execution_count": null,
   "id": "6d32fe69",
   "metadata": {},
   "outputs": [],
   "source": [
    "5. Write a function that takes a list of elements and returns only the integers."
   ]
  },
  {
   "cell_type": "code",
   "execution_count": 41,
   "id": "16cb65d9",
   "metadata": {},
   "outputs": [
    {
     "name": "stdout",
     "output_type": "stream",
     "text": [
      "[9, 2, 16]\n"
     ]
    }
   ],
   "source": [
    "def return_only_integer(l):\n",
    "    l2 = []\n",
    "    for i in l:\n",
    "        if type(i) == int:\n",
    "            l2.append(i)\n",
    "    return l2\n",
    "    \n",
    "print(return_only_integer([9,2,\"space\",\"car\",\"lion\",16]))  \n",
    "    \n",
    "    "
   ]
  },
  {
   "cell_type": "code",
   "execution_count": null,
   "id": "cc5be226",
   "metadata": {},
   "outputs": [],
   "source": []
  }
 ],
 "metadata": {
  "kernelspec": {
   "display_name": "Python 3 (ipykernel)",
   "language": "python",
   "name": "python3"
  },
  "language_info": {
   "codemirror_mode": {
    "name": "ipython",
    "version": 3
   },
   "file_extension": ".py",
   "mimetype": "text/x-python",
   "name": "python",
   "nbconvert_exporter": "python",
   "pygments_lexer": "ipython3",
   "version": "3.9.12"
  }
 },
 "nbformat": 4,
 "nbformat_minor": 5
}
