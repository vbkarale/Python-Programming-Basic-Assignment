{
 "cells": [
  {
   "cell_type": "code",
   "execution_count": null,
   "id": "cf63043e",
   "metadata": {},
   "outputs": [],
   "source": [
    "1. Write a Python program to find words which are greater than given length k?"
   ]
  },
  {
   "cell_type": "code",
   "execution_count": 3,
   "id": "677e9f94",
   "metadata": {},
   "outputs": [
    {
     "name": "stdout",
     "output_type": "stream",
     "text": [
      "['ineuron', 'Stack', 'Science']\n"
     ]
    }
   ],
   "source": [
    "def string_k(k, str):\n",
    "    string = []\n",
    "    text = str.split(\" \")\n",
    "    for x in text:\n",
    "        if len(x) > k:\n",
    "            string.append(x)\n",
    "    return string\n",
    "k = 4\n",
    "str =\"ineuron Full Stack Data Science\"\n",
    "print(string_k(k, str))"
   ]
  },
  {
   "cell_type": "code",
   "execution_count": null,
   "id": "df7b2491",
   "metadata": {},
   "outputs": [],
   "source": [
    "2. Write a Python program for removing i-th character from a string?"
   ]
  },
  {
   "cell_type": "code",
   "execution_count": 5,
   "id": "dfa7f8ae",
   "metadata": {},
   "outputs": [
    {
     "name": "stdout",
     "output_type": "stream",
     "text": [
      "ineurn Full Stack Data Science\n"
     ]
    }
   ],
   "source": [
    "string =\"ineuron Full Stack Data Science\"\n",
    "i = 5\n",
    "a = string[ : i] \n",
    "b = string[i + 1: ]\n",
    "print(a+b)\n"
   ]
  },
  {
   "cell_type": "code",
   "execution_count": null,
   "id": "2a2761d1",
   "metadata": {},
   "outputs": [],
   "source": [
    "3. Write a Python program to split and join a string?"
   ]
  },
  {
   "cell_type": "code",
   "execution_count": 7,
   "id": "fc694757",
   "metadata": {},
   "outputs": [
    {
     "name": "stdout",
     "output_type": "stream",
     "text": [
      "['ineuron', 'Full', 'Stack', 'Data', 'Science']\n",
      "ineuron-Full-Stack-Data-Science\n"
     ]
    }
   ],
   "source": [
    "def split_string(string):\n",
    "    list_string = string.split(' ')\n",
    "    return list_string\n",
    "  \n",
    "def join_string(list_string):\n",
    "    string = '-'.join(list_string)\n",
    "    return string\n",
    "\n",
    "string = 'ineuron Full Stack Data Science'\n",
    "\n",
    "list_string = split_string(string)\n",
    "print(list_string) \n",
    "new_string = join_string(list_string)\n",
    "print(new_string)"
   ]
  },
  {
   "cell_type": "code",
   "execution_count": null,
   "id": "80774c16",
   "metadata": {},
   "outputs": [],
   "source": [
    "4. Write a Python to check if a given string is binary string or not?"
   ]
  },
  {
   "cell_type": "code",
   "execution_count": 8,
   "id": "27adde9a",
   "metadata": {},
   "outputs": [
    {
     "name": "stdout",
     "output_type": "stream",
     "text": [
      "Yes\n"
     ]
    }
   ],
   "source": [
    "string = \"101010000111\"\n",
    "p = set(string)\n",
    "s = {'0', '1'}\n",
    "if s == p or p == {'0'} or p == {'1'}:\n",
    "    print(\"Yes\")\n",
    "else :\n",
    "     print(\"No\")"
   ]
  },
  {
   "cell_type": "code",
   "execution_count": null,
   "id": "312ec2d3",
   "metadata": {},
   "outputs": [],
   "source": [
    "5. Write a Python program to find uncommon words from two Strings?"
   ]
  },
  {
   "cell_type": "code",
   "execution_count": 9,
   "id": "40e68131",
   "metadata": {},
   "outputs": [
    {
     "name": "stdout",
     "output_type": "stream",
     "text": [
      "['Full', 'Stack', 'Data', 'Science', 'Learning', 'from']\n"
     ]
    }
   ],
   "source": [
    "def UncommonWords(A, B):\n",
    "    count = {}\n",
    "    for word in A.split():\n",
    "        count[word] = count.get(word, 0) + 1\n",
    "\n",
    "    for word in B.split():\n",
    "        count[word] = count.get(word, 0) + 1\n",
    "  \n",
    "    return [word for word in count if count[word] == 1]\n",
    "  \n",
    "A = \"ineuron Full Stack Data Science\"\n",
    "B = \"Learning from ineuron\"\n",
    "  \n",
    "print(UncommonWords(A, B))"
   ]
  },
  {
   "cell_type": "code",
   "execution_count": null,
   "id": "354ddfee",
   "metadata": {},
   "outputs": [],
   "source": [
    "6. Write a Python to find all duplicate characters in string?"
   ]
  },
  {
   "cell_type": "code",
   "execution_count": 11,
   "id": "f06581d1",
   "metadata": {},
   "outputs": [
    {
     "name": "stdout",
     "output_type": "stream",
     "text": [
      "i n e u   l S t a c\n"
     ]
    }
   ],
   "source": [
    "string = \"ineuron Full Stack Data Science\"\n",
    "\n",
    "duplicates = []\n",
    "for char in string:\n",
    "    if string.count(char) > 1:\n",
    "        if char not in duplicates:\n",
    "            duplicates.append(char)\n",
    "print(*duplicates)"
   ]
  },
  {
   "cell_type": "code",
   "execution_count": null,
   "id": "6397717d",
   "metadata": {},
   "outputs": [],
   "source": [
    "7. Write a Python Program to check if a string contains any special character?"
   ]
  },
  {
   "cell_type": "code",
   "execution_count": 1,
   "id": "92324b5a",
   "metadata": {},
   "outputs": [
    {
     "name": "stdout",
     "output_type": "stream",
     "text": [
      "The string contains special characters.\n"
     ]
    }
   ],
   "source": [
    "import re\n",
    "string = \"ineuronFullStack$DataScience$\"\n",
    "\n",
    "special_char = re.compile('[@_!#$%^&*()<>?/\\|}{~:]')\n",
    "if(special_char.search(string) == None):\n",
    "    print('String does not contain any special characters.')\n",
    "else:\n",
    "    print('The string contains special characters.')"
   ]
  },
  {
   "cell_type": "code",
   "execution_count": null,
   "id": "a4f711c0",
   "metadata": {},
   "outputs": [],
   "source": []
  }
 ],
 "metadata": {
  "kernelspec": {
   "display_name": "Python 3 (ipykernel)",
   "language": "python",
   "name": "python3"
  },
  "language_info": {
   "codemirror_mode": {
    "name": "ipython",
    "version": 3
   },
   "file_extension": ".py",
   "mimetype": "text/x-python",
   "name": "python",
   "nbconvert_exporter": "python",
   "pygments_lexer": "ipython3",
   "version": "3.9.7"
  }
 },
 "nbformat": 4,
 "nbformat_minor": 5
}
