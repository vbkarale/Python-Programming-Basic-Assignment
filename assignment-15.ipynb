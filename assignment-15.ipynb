{
 "cells": [
  {
   "cell_type": "code",
   "execution_count": null,
   "id": "52126c5e",
   "metadata": {},
   "outputs": [],
   "source": [
    "1. Please write a program using generator to print the numbers which can be divisible by 5 and\n",
    "7 between 0 and n in comma separated form while n is input by console."
   ]
  },
  {
   "cell_type": "code",
   "execution_count": 5,
   "id": "faee3ef5",
   "metadata": {},
   "outputs": [
    {
     "name": "stdout",
     "output_type": "stream",
     "text": [
      "Enter a no 100\n",
      "0,35,70\n"
     ]
    }
   ],
   "source": [
    "def generator(n):\n",
    "    for i in range(n+1):\n",
    "        if i % 7 == 0 and i % 5 == 0:\n",
    "                yield i\n",
    "    \n",
    "n = int(input(\"Enter a no \"))\n",
    "\n",
    "fn = lambda x: ','.join((f\"{i}\" for i in generator(n)))\n",
    "\n",
    "print(fn(n))"
   ]
  },
  {
   "cell_type": "code",
   "execution_count": null,
   "id": "c80e1dfe",
   "metadata": {},
   "outputs": [],
   "source": [
    "2. Please write a program using generator to print the even numbers between 0 and n in comma\n",
    "separated form while n is input by console."
   ]
  },
  {
   "cell_type": "code",
   "execution_count": 7,
   "id": "04e576a8",
   "metadata": {},
   "outputs": [
    {
     "name": "stdout",
     "output_type": "stream",
     "text": [
      "Enter a no 20\n",
      "0,2,4,6,8,10,12,14,16,18,20\n"
     ]
    }
   ],
   "source": [
    "def generator(n):\n",
    "    for i in range(0,n+1,2):\n",
    "        yield i\n",
    "        \n",
    "n = int(input(\"Enter a no \"))\n",
    "\n",
    "fn = lambda x: ','.join(f\"{i}\" for i in generator(n))\n",
    "print(fn(n))"
   ]
  },
  {
   "cell_type": "code",
   "execution_count": null,
   "id": "4d8b1718",
   "metadata": {},
   "outputs": [],
   "source": [
    "3. Please write a program using list comprehension to print the Fibonacci Sequence in comma\n",
    "separated form with a given n input by console."
   ]
  },
  {
   "cell_type": "code",
   "execution_count": 30,
   "id": "a591cb3f",
   "metadata": {},
   "outputs": [
    {
     "name": "stdout",
     "output_type": "stream",
     "text": [
      "Enter range 8\n",
      "[0, 1, 1, 2, 3, 5, 8, 13]\n"
     ]
    }
   ],
   "source": [
    "myList = [0,1]\n",
    "\n",
    "def fibonaci(n):\n",
    "    if n == 0:\n",
    "        return 0\n",
    "    elif n == 1:\n",
    "        return 1\n",
    "    elif n > 1:\n",
    "        for i in range(2,n):\n",
    "            myList.append(myList[i-1] + myList[i-2])\n",
    "        return myList\n",
    "                    \n",
    "n = int(input(\"Enter range \"))\n",
    "f = fibonaci(n)\n",
    "print(f)"
   ]
  },
  {
   "cell_type": "code",
   "execution_count": null,
   "id": "5a312072",
   "metadata": {},
   "outputs": [],
   "source": [
    "4. Assuming that we have some email addresses in the \"username@companyname.com\" format,\n",
    "please write program to print the user name of a given email address. Both user names and\n",
    "company names are composed of letters only."
   ]
  },
  {
   "cell_type": "code",
   "execution_count": 6,
   "id": "af361210",
   "metadata": {},
   "outputs": [
    {
     "name": "stdout",
     "output_type": "stream",
     "text": [
      "Enter email addressusername@companyname.com\n",
      "username\n"
     ]
    }
   ],
   "source": [
    "import re\n",
    "\n",
    "email = input(\"Enter email address\")\n",
    "regex = \"[^a-zA-Z]+\"\n",
    "p = re.compile(regex)\n",
    "\n",
    "if(re.search(p, email)):\n",
    "    n = email.find(\"@\")\n",
    "    print(email[:n])"
   ]
  },
  {
   "cell_type": "code",
   "execution_count": null,
   "id": "2c749902",
   "metadata": {},
   "outputs": [],
   "source": [
    "5. Define a class named Shape and its subclass Square. The Square class has an init function\n",
    "which takes a length as argument. Both classes have a area function which can print the area\n",
    "of the shape where Shape's area is 0 by default."
   ]
  },
  {
   "cell_type": "code",
   "execution_count": 4,
   "id": "1a2ef65c",
   "metadata": {},
   "outputs": [
    {
     "name": "stdout",
     "output_type": "stream",
     "text": [
      "area is 0\n",
      "area of square is 400\n"
     ]
    }
   ],
   "source": [
    "class shape:\n",
    "    def area(self):\n",
    "        print(\"area is 0\")\n",
    "    \n",
    "class square(shape):\n",
    "    \n",
    "    def __init__(self,length):\n",
    "        self.length = length\n",
    "        \n",
    "    def area(self):\n",
    "        area = self.length * self.length\n",
    "        print(\"area of square is\", area)\n",
    "        \n",
    "\n",
    "s = shape()\n",
    "sq = square(20)\n",
    "\n",
    "s.area()\n",
    "sq.area()"
   ]
  },
  {
   "cell_type": "code",
   "execution_count": null,
   "id": "1f215ffd",
   "metadata": {},
   "outputs": [],
   "source": []
  }
 ],
 "metadata": {
  "kernelspec": {
   "display_name": "Python 3 (ipykernel)",
   "language": "python",
   "name": "python3"
  },
  "language_info": {
   "codemirror_mode": {
    "name": "ipython",
    "version": 3
   },
   "file_extension": ".py",
   "mimetype": "text/x-python",
   "name": "python",
   "nbconvert_exporter": "python",
   "pygments_lexer": "ipython3",
   "version": "3.9.7"
  }
 },
 "nbformat": 4,
 "nbformat_minor": 5
}
