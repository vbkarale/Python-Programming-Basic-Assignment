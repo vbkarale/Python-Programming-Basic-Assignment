{
 "cells": [
  {
   "cell_type": "code",
   "execution_count": null,
   "id": "18abc999",
   "metadata": {},
   "outputs": [],
   "source": [
    "1. Write a Python Program to Find LCM?"
   ]
  },
  {
   "cell_type": "code",
   "execution_count": 3,
   "id": "ffd0b636",
   "metadata": {},
   "outputs": [
    {
     "name": "stdout",
     "output_type": "stream",
     "text": [
      "enter first no 20\n",
      "enter second no 30\n",
      "The L.C.M. is 60\n"
     ]
    }
   ],
   "source": [
    "no1 = int(input(\"enter first no \"))\n",
    "no2 = int(input(\"enter second no \"))\n",
    "lcm = 0\n",
    "if no1 > no2:\n",
    "    greater = no1\n",
    "else: \n",
    "    greater = no2\n",
    "    \n",
    "while(True):\n",
    "    if((greater % no1 == 0) and (greater % no2 == 0)):\n",
    "        lcm = greater\n",
    "        break\n",
    "    greater += 1\n",
    "\n",
    "print(\"The L.C.M. is\", lcm)"
   ]
  },
  {
   "cell_type": "code",
   "execution_count": null,
   "id": "d4128126",
   "metadata": {},
   "outputs": [],
   "source": [
    "2. Write a Python Program to Find HCF?"
   ]
  },
  {
   "cell_type": "code",
   "execution_count": 5,
   "id": "88436d64",
   "metadata": {},
   "outputs": [
    {
     "name": "stdout",
     "output_type": "stream",
     "text": [
      "enter first no 300\n",
      "enter second no 400\n",
      "The H.C.F. is 100\n"
     ]
    }
   ],
   "source": [
    "no1 = int(input(\"enter first no \"))\n",
    "no2 = int(input(\"enter second no \"))\n",
    "\n",
    "while(no2):\n",
    "    no1, no2 = no2 , no1 % no2\n",
    "\n",
    "print(\"The H.C.F. is\", no1)"
   ]
  },
  {
   "cell_type": "code",
   "execution_count": null,
   "id": "f8d29522",
   "metadata": {},
   "outputs": [],
   "source": [
    "3. Write a Python Program to Convert Decimal to Binary, Octal and Hexadecimal?"
   ]
  },
  {
   "cell_type": "code",
   "execution_count": 7,
   "id": "36617d2b",
   "metadata": {},
   "outputs": [
    {
     "name": "stdout",
     "output_type": "stream",
     "text": [
      "enter a no 488\n",
      "binary is - 0b111101000\n",
      "octal is - 0o750\n",
      "hexadecimal is - 0x1e8\n"
     ]
    }
   ],
   "source": [
    "num = int(input(\"enter a no \"))\n",
    "print(\"binary is -\" , bin(num))\n",
    "print(\"octal is -\" , oct(num))\n",
    "print(\"hexadecimal is -\" , hex(num))"
   ]
  },
  {
   "cell_type": "code",
   "execution_count": null,
   "id": "a4abfa78",
   "metadata": {},
   "outputs": [],
   "source": [
    "4. Write a Python Program To Find ASCII value of a character?"
   ]
  },
  {
   "cell_type": "code",
   "execution_count": 12,
   "id": "397da703",
   "metadata": {},
   "outputs": [
    {
     "name": "stdout",
     "output_type": "stream",
     "text": [
      "enter a single characterA\n",
      "The ASCII value of 'A' is 65\n"
     ]
    }
   ],
   "source": [
    "char = input(\"enter a single character\")\n",
    "print(\"The ASCII value of '\" + char + \"' is\", ord(char))"
   ]
  },
  {
   "cell_type": "code",
   "execution_count": null,
   "id": "2067269c",
   "metadata": {},
   "outputs": [],
   "source": [
    "5. Write a Python Program to Make a Simple Calculator with 4 basic mathematical operations?"
   ]
  },
  {
   "cell_type": "code",
   "execution_count": 2,
   "id": "0bbfdddc",
   "metadata": {},
   "outputs": [
    {
     "name": "stdout",
     "output_type": "stream",
     "text": [
      "Select operation to perform.\n",
      "1.Add\n",
      "2.Subtract\n",
      "3.Multiply\n",
      "4.Divide\n",
      "Enter your choice(1/2/3/4): 3\n",
      "Enter first number: 6\n",
      "Enter second number: 7\n",
      "6.0 * 7.0 = 42.0\n",
      "Wanna do next calculation? (yes/no): no\n"
     ]
    }
   ],
   "source": [
    "def add(x, y):\n",
    "    return x + y\n",
    "\n",
    "def subtract(x, y):\n",
    "    return x - y\n",
    "\n",
    "def multiply(x, y):\n",
    "    return x * y\n",
    "\n",
    "def divide(x, y):\n",
    "    return x / y\n",
    "\n",
    "print(\"Select operation to perform.\")\n",
    "print(\"1.Add\")\n",
    "print(\"2.Subtract\")\n",
    "print(\"3.Multiply\")\n",
    "print(\"4.Divide\")\n",
    "\n",
    "while True:\n",
    "    choice = input(\"Enter your choice(1/2/3/4): \")\n",
    "\n",
    "    if choice in ('1', '2', '3', '4'):\n",
    "        num1 = float(input(\"Enter first number: \"))\n",
    "        num2 = float(input(\"Enter second number: \"))\n",
    "        \n",
    "        if choice == '1':\n",
    "            print(num1, \"+\", num2, \"=\", add(num1, num2))\n",
    "\n",
    "        elif choice == '2':\n",
    "            print(num1, \"-\", num2, \"=\", subtract(num1, num2))\n",
    "\n",
    "        elif choice == '3':\n",
    "            print(num1, \"*\", num2, \"=\", multiply(num1, num2))\n",
    "\n",
    "        elif choice == '4':\n",
    "            print(num1, \"/\", num2, \"=\", divide(num1, num2))\n",
    "                \n",
    "        next_calculation = input(\"Wanna do next calculation? (yes/no): \")\n",
    "        if next_calculation == \"no\":\n",
    "            break\n",
    "    \n",
    "    else:\n",
    "        print(\"Invalid Input\")"
   ]
  },
  {
   "cell_type": "code",
   "execution_count": null,
   "id": "2030fba6",
   "metadata": {},
   "outputs": [],
   "source": []
  }
 ],
 "metadata": {
  "kernelspec": {
   "display_name": "Python 3 (ipykernel)",
   "language": "python",
   "name": "python3"
  },
  "language_info": {
   "codemirror_mode": {
    "name": "ipython",
    "version": 3
   },
   "file_extension": ".py",
   "mimetype": "text/x-python",
   "name": "python",
   "nbconvert_exporter": "python",
   "pygments_lexer": "ipython3",
   "version": "3.9.7"
  }
 },
 "nbformat": 4,
 "nbformat_minor": 5
}
