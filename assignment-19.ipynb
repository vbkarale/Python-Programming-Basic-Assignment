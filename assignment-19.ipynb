{
 "cells": [
  {
   "cell_type": "code",
   "execution_count": null,
   "id": "5f03704f",
   "metadata": {},
   "outputs": [],
   "source": [
    "1. Create a function that takes a string and returns a string in which each character is repeated\n",
    "once."
   ]
  },
  {
   "cell_type": "code",
   "execution_count": 27,
   "id": "99c6398e",
   "metadata": {},
   "outputs": [
    {
     "name": "stdout",
     "output_type": "stream",
     "text": [
      "SSttrriinngg\n"
     ]
    }
   ],
   "source": [
    "def double_char(string):\n",
    "    s=\"\"\n",
    "    for i in string:\n",
    "        s = s + i*2\n",
    "    return s\n",
    "\n",
    "s = \"String\" \n",
    "print(double_char(s))\n",
    "    "
   ]
  },
  {
   "cell_type": "code",
   "execution_count": null,
   "id": "60cbf37b",
   "metadata": {},
   "outputs": [],
   "source": [
    "2. Create a function that reverses a boolean value and returns the string \"boolean expected\"\n",
    "if another variable type is given."
   ]
  },
  {
   "cell_type": "code",
   "execution_count": 38,
   "id": "6ec6fd7a",
   "metadata": {},
   "outputs": [
    {
     "name": "stdout",
     "output_type": "stream",
     "text": [
      "boolean expected\n",
      "True\n"
     ]
    }
   ],
   "source": [
    "def reverse(boolean):\n",
    "    \n",
    "    if type(boolean) == bool:\n",
    "        return not boolean\n",
    "    else:\n",
    "        return \"boolean expected\"\n",
    "    \n",
    "b1 = \"ineuron\"\n",
    "print(reverse(b))\n",
    "\n",
    "b2 = False\n",
    "print(reverse(b2))\n",
    "    "
   ]
  },
  {
   "cell_type": "code",
   "execution_count": null,
   "id": "7ed32bfc",
   "metadata": {},
   "outputs": [],
   "source": [
    "3. Create a function that returns the thickness (in meters) of a piece of paper after folding it n\n",
    "number of times. The paper starts off with a thickness of 0.5mm."
   ]
  },
  {
   "cell_type": "code",
   "execution_count": 50,
   "id": "3d94f5e3",
   "metadata": {},
   "outputs": [
    {
     "name": "stdout",
     "output_type": "stream",
     "text": [
      "enter no of folds 4\n",
      "Paper folded 4 times is 8 mm equals to (0.008m)\n"
     ]
    }
   ],
   "source": [
    "def num_layers(folds):\n",
    "    res = 0.5\n",
    "    for i in range(folds):\n",
    "        res *= 2\n",
    "    return res\n",
    "\n",
    "fold = int(input(\"enter no of folds \"))\n",
    "mm = int(num_layers(fold))\n",
    "m = mm/1000\n",
    "\n",
    "print(f\"Paper folded {fold} times is {mm} mm equals to ({m}m)\")\n",
    "        \n",
    "    "
   ]
  },
  {
   "cell_type": "code",
   "execution_count": null,
   "id": "913b146c",
   "metadata": {},
   "outputs": [],
   "source": [
    "4. Create a function that takes a single string as argument and returns an ordered list containing\n",
    "the indices of all capital letters in the string."
   ]
  },
  {
   "cell_type": "code",
   "execution_count": 53,
   "id": "af652756",
   "metadata": {},
   "outputs": [
    {
     "name": "stdout",
     "output_type": "stream",
     "text": [
      "Enter a string vAiBhAv\n",
      "[1, 3, 5]\n"
     ]
    }
   ],
   "source": [
    "def index_of_caps(string):\n",
    "    \n",
    "    l = [i for i in range(len(string)) if string[i].isupper()]\n",
    "    return l\n",
    "\n",
    "s = input(\"Enter a string \")\n",
    "print(index_of_caps(s))  \n",
    "    "
   ]
  },
  {
   "cell_type": "code",
   "execution_count": null,
   "id": "b362b054",
   "metadata": {},
   "outputs": [],
   "source": [
    "5. Using list comprehensions, create a function that finds all even numbers from 1 to the given\n",
    "number."
   ]
  },
  {
   "cell_type": "code",
   "execution_count": 54,
   "id": "ceef7150",
   "metadata": {},
   "outputs": [
    {
     "name": "stdout",
     "output_type": "stream",
     "text": [
      "[2, 4, 6, 8, 10, 12, 14, 16, 18, 20]\n"
     ]
    }
   ],
   "source": [
    " def find_even_nums(n):\n",
    "        l = [i for i in range(1,n+1) if i % 2 == 0]\n",
    "        return l\n",
    "    \n",
    "print(find_even_nums(20))\n",
    "        "
   ]
  },
  {
   "cell_type": "code",
   "execution_count": null,
   "id": "a9dc6943",
   "metadata": {},
   "outputs": [],
   "source": []
  }
 ],
 "metadata": {
  "kernelspec": {
   "display_name": "Python 3 (ipykernel)",
   "language": "python",
   "name": "python3"
  },
  "language_info": {
   "codemirror_mode": {
    "name": "ipython",
    "version": 3
   },
   "file_extension": ".py",
   "mimetype": "text/x-python",
   "name": "python",
   "nbconvert_exporter": "python",
   "pygments_lexer": "ipython3",
   "version": "3.9.7"
  }
 },
 "nbformat": 4,
 "nbformat_minor": 5
}
