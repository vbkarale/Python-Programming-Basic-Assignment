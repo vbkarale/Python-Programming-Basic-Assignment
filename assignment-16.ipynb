{
 "cells": [
  {
   "cell_type": "code",
   "execution_count": null,
   "id": "a7022131",
   "metadata": {},
   "outputs": [],
   "source": [
    "1. Write a function that stutters a word as if someone is struggling to read it. The\n",
    "first two letters are repeated twice with an ellipsis ... and space after each, and then the\n",
    "word is pronounced with a question mark ?."
   ]
  },
  {
   "cell_type": "code",
   "execution_count": 7,
   "id": "399ffdc8",
   "metadata": {},
   "outputs": [
    {
     "name": "stdout",
     "output_type": "stream",
     "text": [
      "in...  in...  incredible?\n"
     ]
    }
   ],
   "source": [
    "l = []\n",
    "def stutter(word):\n",
    "    \n",
    "    for i in range(2):\n",
    "        w = word[0:2] + \"... \"\n",
    "        l.append(w)\n",
    "    \n",
    "    l.append(word+\"?\")\n",
    "    fn = ' '.join((f\"{i}\"for i in l))\n",
    "    print(fn)\n",
    "     \n",
    "    \n",
    "stutter(\"incredible\")\n",
    "    "
   ]
  },
  {
   "cell_type": "code",
   "execution_count": null,
   "id": "d844aa71",
   "metadata": {},
   "outputs": [],
   "source": [
    "2. Create a function that takes an angle in radians and returns the corresponding\n",
    "angle in degrees rounded to one decimal place."
   ]
  },
  {
   "cell_type": "code",
   "execution_count": 14,
   "id": "7ad18c70",
   "metadata": {},
   "outputs": [
    {
     "name": "stdout",
     "output_type": "stream",
     "text": [
      "Enter angle in Radians 90\n",
      "5156.62\n"
     ]
    }
   ],
   "source": [
    "import math\n",
    "\n",
    "angle = int(input(\"Enter angle in Radians \"))\n",
    "d = math.degrees(angle)\n",
    "print(f\"{d:.2f}\")"
   ]
  },
  {
   "cell_type": "code",
   "execution_count": null,
   "id": "b1570833",
   "metadata": {},
   "outputs": [],
   "source": [
    "3. Given a non-negative integer num, implement a function that returns True if num is a Curzon\n",
    "number, or False otherwise."
   ]
  },
  {
   "cell_type": "code",
   "execution_count": 19,
   "id": "4c427290",
   "metadata": {},
   "outputs": [
    {
     "name": "stdout",
     "output_type": "stream",
     "text": [
      "Enter a no 14\n",
      "True\n"
     ]
    }
   ],
   "source": [
    "def curzon(num):\n",
    "    \n",
    "    n1 = 2**num + 1\n",
    "    n2 = 2 * num + 1\n",
    "    \n",
    "    if n1 % n2 == 0:\n",
    "        return True\n",
    "    else:\n",
    "        return False\n",
    "    \n",
    "num = int(input(\"Enter a no \"))\n",
    "print(curzon(num))\n",
    "\n",
    "    "
   ]
  },
  {
   "cell_type": "code",
   "execution_count": null,
   "id": "08264fea",
   "metadata": {},
   "outputs": [],
   "source": [
    "4. Given the side length x find the area of a hexagon."
   ]
  },
  {
   "cell_type": "code",
   "execution_count": 26,
   "id": "4777a7c9",
   "metadata": {},
   "outputs": [
    {
     "name": "stdout",
     "output_type": "stream",
     "text": [
      "23.4\n"
     ]
    }
   ],
   "source": [
    "import math\n",
    "\n",
    "side = 3\n",
    "a = (3 * math.sqrt(3)) * (side*side) / 2\n",
    "print(round(a,1))"
   ]
  },
  {
   "cell_type": "code",
   "execution_count": null,
   "id": "de3231d3",
   "metadata": {},
   "outputs": [],
   "source": [
    "5. Create a function that returns a base-2 (binary) representation of a base-10\n",
    "(decimal) string number. To convert is simple: ((2) means base-2 and (10) means base-10)\n",
    "010101001(2) = 1 + 8 + 32 + 128."
   ]
  },
  {
   "cell_type": "code",
   "execution_count": 31,
   "id": "1d354418",
   "metadata": {},
   "outputs": [
    {
     "name": "stdout",
     "output_type": "stream",
     "text": [
      "1010\n",
      "10\n"
     ]
    }
   ],
   "source": [
    "b_string  = bin(10)  \n",
    "b_string =  b_string[2:]\n",
    "print(b_string)\n",
    "\n",
    "integer_conversion = 0  \n",
    "for idx,val in enumerate(b_string[::-1]): \n",
    "    if ((int(val) & 1 ) == 1):              \n",
    "        integer_conversion = 1*(1<<idx)+integer_conversion \n",
    "\n",
    "print(integer_conversion) \n"
   ]
  },
  {
   "cell_type": "code",
   "execution_count": null,
   "id": "c1e2d427",
   "metadata": {},
   "outputs": [],
   "source": []
  }
 ],
 "metadata": {
  "kernelspec": {
   "display_name": "Python 3 (ipykernel)",
   "language": "python",
   "name": "python3"
  },
  "language_info": {
   "codemirror_mode": {
    "name": "ipython",
    "version": 3
   },
   "file_extension": ".py",
   "mimetype": "text/x-python",
   "name": "python",
   "nbconvert_exporter": "python",
   "pygments_lexer": "ipython3",
   "version": "3.9.7"
  }
 },
 "nbformat": 4,
 "nbformat_minor": 5
}
