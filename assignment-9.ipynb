{
 "cells": [
  {
   "cell_type": "code",
   "execution_count": null,
   "id": "46557621",
   "metadata": {},
   "outputs": [],
   "source": [
    "1. Write a Python program to check if the given number is a Disarium Number?"
   ]
  },
  {
   "cell_type": "code",
   "execution_count": 10,
   "id": "421a0aee",
   "metadata": {},
   "outputs": [
    {
     "name": "stdout",
     "output_type": "stream",
     "text": [
      "Enter a no 175\n",
      "The Sum of the Digits = 175\n",
      "175  is a Disarium Number\n"
     ]
    }
   ],
   "source": [
    "num = int(input(\"Enter a no \"))\n",
    "length = len(str(num))\n",
    "\n",
    "temp = num\n",
    "sum = 0\n",
    "rem = 0\n",
    "\n",
    "while temp > 0:\n",
    "    rem = temp % 10\n",
    "    sum = sum + int(rem**length)\n",
    "    temp = temp // 10\n",
    "    length = length - 1\n",
    "\n",
    "print(\"The Sum of the Digits =\", sum)\n",
    "\n",
    "if sum == num:\n",
    "    print(num,\" is a Disarium Number\")\n",
    "else:\n",
    "    print(num,\" is Not a Disarium Number\")"
   ]
  },
  {
   "cell_type": "code",
   "execution_count": null,
   "id": "5191ca55",
   "metadata": {},
   "outputs": [],
   "source": [
    "2. Write a Python program to print all disarium numbers between 1 to 100?"
   ]
  },
  {
   "cell_type": "code",
   "execution_count": 13,
   "id": "0ad9a758",
   "metadata": {},
   "outputs": [
    {
     "name": "stdout",
     "output_type": "stream",
     "text": [
      "1  is a Disarium Number\n",
      "2  is a Disarium Number\n",
      "3  is a Disarium Number\n",
      "4  is a Disarium Number\n",
      "5  is a Disarium Number\n",
      "6  is a Disarium Number\n",
      "7  is a Disarium Number\n",
      "8  is a Disarium Number\n",
      "9  is a Disarium Number\n",
      "89  is a Disarium Number\n"
     ]
    }
   ],
   "source": [
    "for i in range(1,100):\n",
    "    num = i\n",
    "    length = len(str(num))\n",
    "\n",
    "    temp = num\n",
    "    sum = 0\n",
    "    rem = 0\n",
    "\n",
    "    while temp > 0:\n",
    "        rem = temp % 10\n",
    "        sum = sum + int(rem**length)\n",
    "        temp = temp // 10\n",
    "        length = length - 1\n",
    "\n",
    "    if sum == num:\n",
    "        print(num,\" is a Disarium Number\")"
   ]
  },
  {
   "cell_type": "code",
   "execution_count": null,
   "id": "44d3a9de",
   "metadata": {},
   "outputs": [],
   "source": [
    "3. Write a Python program to check if the given number is Happy Number?"
   ]
  },
  {
   "cell_type": "code",
   "execution_count": 6,
   "id": "de9f797c",
   "metadata": {},
   "outputs": [
    {
     "name": "stdout",
     "output_type": "stream",
     "text": [
      "enter a no 932\n",
      "932 is a happy number\n"
     ]
    }
   ],
   "source": [
    "def isHappy(n):    \n",
    "    r = s = 0;    \n",
    "    while(n > 0):    \n",
    "        r = n%10    \n",
    "        s += r**2  \n",
    "        n //= 10    \n",
    "    return s  \n",
    "        \n",
    "n = int(input(\"enter a no \"))    \n",
    "res = n  \n",
    "     \n",
    "while(res != 1 and res != 4):    \n",
    "    res = isHappy(res)    \n",
    "     \n",
    "if(res == 1):    \n",
    "    print(n, \"is a happy number\");    \n",
    "elif(res == 4):    \n",
    "    print(n, \"is not a happy number\");"
   ]
  },
  {
   "cell_type": "code",
   "execution_count": null,
   "id": "b3a5d7c6",
   "metadata": {},
   "outputs": [],
   "source": [
    "4. Write a Python program to print all happy numbers between 1 and 100?"
   ]
  },
  {
   "cell_type": "code",
   "execution_count": 2,
   "id": "64e440e6",
   "metadata": {},
   "outputs": [
    {
     "name": "stdout",
     "output_type": "stream",
     "text": [
      "1 is a happy number\n",
      "7 is a happy number\n",
      "10 is a happy number\n",
      "13 is a happy number\n",
      "19 is a happy number\n",
      "23 is a happy number\n",
      "28 is a happy number\n",
      "31 is a happy number\n",
      "32 is a happy number\n",
      "44 is a happy number\n",
      "49 is a happy number\n",
      "68 is a happy number\n",
      "70 is a happy number\n",
      "79 is a happy number\n",
      "82 is a happy number\n",
      "86 is a happy number\n",
      "91 is a happy number\n",
      "94 is a happy number\n",
      "97 is a happy number\n"
     ]
    }
   ],
   "source": [
    "def isHappy(n):    \n",
    "    r = s = 0;    \n",
    "    while(n > 0):    \n",
    "        r = n%10    \n",
    "        s += r**2  \n",
    "        n //= 10    \n",
    "    return s \n",
    "\n",
    "for i in range(1,100):\n",
    "    res = i\n",
    "    \n",
    "    while(res != 1 and res != 4):    \n",
    "        res = isHappy(res)\n",
    "    \n",
    "    if(res == 1):    \n",
    "        print(i, \"is a happy number\");"
   ]
  },
  {
   "cell_type": "code",
   "execution_count": null,
   "id": "a4a83f03",
   "metadata": {},
   "outputs": [],
   "source": [
    "5. Write a Python program to determine whether the given number is a Harshad Number?"
   ]
  },
  {
   "cell_type": "code",
   "execution_count": 10,
   "id": "8abe8e2c",
   "metadata": {},
   "outputs": [
    {
     "name": "stdout",
     "output_type": "stream",
     "text": [
      "enter a no 153\n",
      "153  is Harshad Number\n"
     ]
    }
   ],
   "source": [
    "number = int(input(\"enter a no \"))\n",
    "copy = number\n",
    "digit_sum = 0\n",
    "\n",
    "while number:\n",
    "    digit_sum += number%10\n",
    "    number //= 10\n",
    "\n",
    "if copy%digit_sum == 0:\n",
    "    print(copy,' is Harshad Number')\n",
    "else:\n",
    "    print(copy,' is Not Harshad Number')"
   ]
  },
  {
   "cell_type": "code",
   "execution_count": null,
   "id": "fa5bb791",
   "metadata": {},
   "outputs": [],
   "source": [
    "6. Write a Python program to print all pronic numbers between 1 and 100?"
   ]
  },
  {
   "cell_type": "code",
   "execution_count": 2,
   "id": "fc60f12f",
   "metadata": {},
   "outputs": [
    {
     "name": "stdout",
     "output_type": "stream",
     "text": [
      "Pronic numbers between 1 and 100: \n",
      "2\n",
      "6\n",
      "12\n",
      "20\n",
      "30\n",
      "42\n",
      "56\n",
      "72\n",
      "90\n"
     ]
    }
   ],
   "source": [
    "def isPronicNumber(num):    \n",
    "    flag = False;    \n",
    "        \n",
    "    for j in range(1, num+1):      \n",
    "        if((j*(j+1)) == num):    \n",
    "            flag = True;    \n",
    "            break;    \n",
    "    return flag;    \n",
    "        \n",
    "print(\"Pronic numbers between 1 and 100: \");    \n",
    "for i in range(1, 101):    \n",
    "    if(isPronicNumber(i)):    \n",
    "        print(i) "
   ]
  },
  {
   "cell_type": "code",
   "execution_count": null,
   "id": "f8419fb3",
   "metadata": {},
   "outputs": [],
   "source": []
  }
 ],
 "metadata": {
  "kernelspec": {
   "display_name": "Python 3 (ipykernel)",
   "language": "python",
   "name": "python3"
  },
  "language_info": {
   "codemirror_mode": {
    "name": "ipython",
    "version": 3
   },
   "file_extension": ".py",
   "mimetype": "text/x-python",
   "name": "python",
   "nbconvert_exporter": "python",
   "pygments_lexer": "ipython3",
   "version": "3.9.7"
  }
 },
 "nbformat": 4,
 "nbformat_minor": 5
}
