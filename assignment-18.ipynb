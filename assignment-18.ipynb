{
 "cells": [
  {
   "cell_type": "code",
   "execution_count": null,
   "id": "d1919b5f",
   "metadata": {},
   "outputs": [],
   "source": [
    "1. Create a function that takes a list of non-negative integers and strings and return a new list\n",
    "without the strings."
   ]
  },
  {
   "cell_type": "code",
   "execution_count": 3,
   "id": "a71d4ac2",
   "metadata": {},
   "outputs": [
    {
     "name": "stdout",
     "output_type": "stream",
     "text": [
      "[1, 2, 3, 7, 9, 78]\n"
     ]
    }
   ],
   "source": [
    "def new_list(l):\n",
    "    l1 = []\n",
    "    \n",
    "    for i in l:\n",
    "        if type(i) == int:\n",
    "            l1.append(i)\n",
    "    return l1\n",
    "            \n",
    "l = [1,2,3,\"dsa\",\"wew\",\"sda\",7,9,78]\n",
    "l2 = new_list(l)\n",
    "print(l2)\n",
    "    "
   ]
  },
  {
   "cell_type": "code",
   "execution_count": null,
   "id": "4dd51062",
   "metadata": {},
   "outputs": [],
   "source": [
    "2. The 'Reverser' takes a string as input and returns that string in reverse order, with the\n",
    "opposite case."
   ]
  },
  {
   "cell_type": "code",
   "execution_count": 6,
   "id": "b167f0a1",
   "metadata": {},
   "outputs": [
    {
     "name": "stdout",
     "output_type": "stream",
     "text": [
      "enter a string vaibhav karale\n",
      "ELARAK VAHBIAV\n"
     ]
    }
   ],
   "source": [
    "def reverser(s):\n",
    "    return s[::-1].swapcase()\n",
    "    \n",
    "s = input(\"enter a string \")\n",
    "print(reverser(s))\n",
    "    "
   ]
  },
  {
   "cell_type": "code",
   "execution_count": null,
   "id": "4fd47110",
   "metadata": {},
   "outputs": [],
   "source": [
    "3. Your task is to unpack the list writeyourcodehere into three variables, being first,\n",
    "middle, and last, with middle being everything in between the first and last element. Then\n",
    "print all three variables."
   ]
  },
  {
   "cell_type": "code",
   "execution_count": 10,
   "id": "5d75e77a",
   "metadata": {},
   "outputs": [
    {
     "name": "stdout",
     "output_type": "stream",
     "text": [
      "first- 1\n",
      "middle- [2, 3, 4, 5]\n",
      "last- 6\n"
     ]
    }
   ],
   "source": [
    "first, *middle, last = [1, 2, 3, 4, 5, 6]\n",
    "print(f\"first- {first}\")\n",
    "print(f\"middle- {middle}\")\n",
    "print(f\"last- {last}\")"
   ]
  },
  {
   "cell_type": "code",
   "execution_count": null,
   "id": "c1e2c1cd",
   "metadata": {},
   "outputs": [],
   "source": [
    "4. Write a function that calculates the factorial of a number recursively."
   ]
  },
  {
   "cell_type": "code",
   "execution_count": 12,
   "id": "14daf9db",
   "metadata": {},
   "outputs": [
    {
     "name": "stdout",
     "output_type": "stream",
     "text": [
      "enter a no 5\n",
      "The factorial of 5 is 120\n"
     ]
    }
   ],
   "source": [
    "def recur_factorial(n):\n",
    "   if n == 1:\n",
    "       return n\n",
    "   else:\n",
    "       return n*recur_factorial(n-1)\n",
    "\n",
    "num = int(input(\"enter a no \"))\n",
    "if num < 0:\n",
    "   print(\"Sorry, factorial does not exist for negative numbers\")\n",
    "elif num == 0:\n",
    "   print(\"The factorial of 0 is 1\")\n",
    "else:\n",
    "   print(\"The factorial of\", num, \"is\", recur_factorial(num))"
   ]
  },
  {
   "cell_type": "code",
   "execution_count": null,
   "id": "4b0b00b5",
   "metadata": {},
   "outputs": [],
   "source": [
    "5. Write a function that moves all elements of one type to the end of the list."
   ]
  },
  {
   "cell_type": "code",
   "execution_count": 19,
   "id": "f33eeb6f",
   "metadata": {},
   "outputs": [
    {
     "name": "stdout",
     "output_type": "stream",
     "text": [
      "['b', 'a', 'a', 'a']\n"
     ]
    }
   ],
   "source": [
    "\n",
    "def move_to_end(l,n):\n",
    "    \n",
    "    for i in l:\n",
    "        if i == n:\n",
    "            l.append(l.pop(l.index(i)))\n",
    "    \n",
    "    return l\n",
    "\n",
    "\n",
    "\n",
    "lst = [\"a\",\"a\",\"a\",\"b\"]\n",
    "\n",
    "l = move_to_end(lst,\"a\")\n",
    "print(l)"
   ]
  },
  {
   "cell_type": "code",
   "execution_count": null,
   "id": "400905b4",
   "metadata": {},
   "outputs": [],
   "source": []
  }
 ],
 "metadata": {
  "kernelspec": {
   "display_name": "Python 3 (ipykernel)",
   "language": "python",
   "name": "python3"
  },
  "language_info": {
   "codemirror_mode": {
    "name": "ipython",
    "version": 3
   },
   "file_extension": ".py",
   "mimetype": "text/x-python",
   "name": "python",
   "nbconvert_exporter": "python",
   "pygments_lexer": "ipython3",
   "version": "3.9.7"
  }
 },
 "nbformat": 4,
 "nbformat_minor": 5
}
