{
 "cells": [
  {
   "cell_type": "code",
   "execution_count": null,
   "id": "1a7f3c97",
   "metadata": {},
   "outputs": [],
   "source": [
    "1. Write a Python program to convert kilometers to miles?"
   ]
  },
  {
   "cell_type": "code",
   "execution_count": 14,
   "id": "5a0a97da",
   "metadata": {},
   "outputs": [
    {
     "name": "stdout",
     "output_type": "stream",
     "text": [
      "Enter Km 5\n",
      "3.1068 miles\n"
     ]
    }
   ],
   "source": [
    "kms = int(input(\"Enter Km \"))\n",
    "miles = kms* 0.62137\n",
    "print(round(miles,4), \"miles\")"
   ]
  },
  {
   "cell_type": "code",
   "execution_count": null,
   "id": "f31be2d7",
   "metadata": {},
   "outputs": [],
   "source": [
    "2. Write a Python program to convert Celsius to Fahrenheit?"
   ]
  },
  {
   "cell_type": "code",
   "execution_count": 57,
   "id": "d3323c3d",
   "metadata": {},
   "outputs": [
    {
     "name": "stdout",
     "output_type": "stream",
     "text": [
      "Enter Celcius 32\n",
      "89.6 farenhite\n"
     ]
    }
   ],
   "source": [
    "celcius = input(\"Enter Celcius \")\n",
    "f = 0\n",
    "if celcius.isdigit():\n",
    "    c = int(celcius)\n",
    "    f =  (c * 9/5) + 32\n",
    "else:\n",
    "    c = float(celcius)\n",
    "    f = (c * 9/5) + 32\n",
    "\n",
    "print(f, \"farenhite\")\n",
    "    \n"
   ]
  },
  {
   "cell_type": "code",
   "execution_count": null,
   "id": "6a7c24f9",
   "metadata": {},
   "outputs": [],
   "source": [
    "3. Write a Python program to display calendar?"
   ]
  },
  {
   "cell_type": "code",
   "execution_count": 59,
   "id": "1cc358d3",
   "metadata": {},
   "outputs": [
    {
     "name": "stdout",
     "output_type": "stream",
     "text": [
      "Enter year 2022\n",
      "Enter month 3\n",
      "     March 2022\n",
      "Mo Tu We Th Fr Sa Su\n",
      "    1  2  3  4  5  6\n",
      " 7  8  9 10 11 12 13\n",
      "14 15 16 17 18 19 20\n",
      "21 22 23 24 25 26 27\n",
      "28 29 30 31\n",
      "\n"
     ]
    }
   ],
   "source": [
    "import calendar\n",
    "year = int(input(\"Enter year \"))\n",
    "month = int(input(\"Enter month \"))\n",
    "print(calendar.month(year, month))"
   ]
  },
  {
   "cell_type": "code",
   "execution_count": null,
   "id": "1b8cfef2",
   "metadata": {},
   "outputs": [],
   "source": [
    "4. Write a Python program to solve quadratic equation?"
   ]
  },
  {
   "cell_type": "code",
   "execution_count": 78,
   "id": "d3f49c28",
   "metadata": {},
   "outputs": [
    {
     "name": "stdout",
     "output_type": "stream",
     "text": [
      "(-3+0j) (-1+0j)\n"
     ]
    }
   ],
   "source": [
    "import cmath\n",
    "a = 1\n",
    "b = 4\n",
    "c = 3\n",
    "val = (b**2) - (4*a*c)\n",
    "x = (-b-cmath.sqrt(val)) / (2*a)\n",
    "y = (-b+cmath.sqrt(val)) / (2*a)\n",
    "print(x,y)"
   ]
  },
  {
   "cell_type": "code",
   "execution_count": null,
   "id": "2e7d04db",
   "metadata": {},
   "outputs": [],
   "source": [
    "5. Write a Python program to swap two variables without temp variable?"
   ]
  },
  {
   "cell_type": "code",
   "execution_count": 82,
   "id": "0bbffb4e",
   "metadata": {},
   "outputs": [
    {
     "name": "stdout",
     "output_type": "stream",
     "text": [
      "Before swapping\n",
      "a = 4 b = 5\n",
      "After swapping\n",
      "a = 5 b = 4\n"
     ]
    }
   ],
   "source": [
    "a = 4\n",
    "b = 5\n",
    "print(\"Before swapping\")\n",
    "print(\"a =\",a,\"b =\",b)\n",
    "a,b = b,a\n",
    "print(\"After swapping\")\n",
    "print(\"a =\",a,\"b =\",b)"
   ]
  },
  {
   "cell_type": "code",
   "execution_count": null,
   "id": "981a15de",
   "metadata": {},
   "outputs": [],
   "source": []
  }
 ],
 "metadata": {
  "kernelspec": {
   "display_name": "Python 3 (ipykernel)",
   "language": "python",
   "name": "python3"
  },
  "language_info": {
   "codemirror_mode": {
    "name": "ipython",
    "version": 3
   },
   "file_extension": ".py",
   "mimetype": "text/x-python",
   "name": "python",
   "nbconvert_exporter": "python",
   "pygments_lexer": "ipython3",
   "version": "3.9.7"
  }
 },
 "nbformat": 4,
 "nbformat_minor": 5
}
