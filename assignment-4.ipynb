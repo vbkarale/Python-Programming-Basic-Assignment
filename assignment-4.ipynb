{
 "cells": [
  {
   "cell_type": "code",
   "execution_count": null,
   "id": "1f6d6ac3",
   "metadata": {},
   "outputs": [],
   "source": [
    "1. Write a Python Program to Find the Factorial of a Number?"
   ]
  },
  {
   "cell_type": "code",
   "execution_count": 6,
   "id": "dc22115f",
   "metadata": {},
   "outputs": [
    {
     "name": "stdout",
     "output_type": "stream",
     "text": [
      "Enter a no 5\n",
      "120\n"
     ]
    }
   ],
   "source": [
    "n = int(input(\"Enter a no \"))\n",
    "f = 1\n",
    "for i in range(1,n+1):\n",
    "    f = f * i\n",
    "print(f)"
   ]
  },
  {
   "cell_type": "code",
   "execution_count": null,
   "id": "89ef0b73",
   "metadata": {},
   "outputs": [],
   "source": [
    "2. Write a Python Program to Display the multiplication Table?"
   ]
  },
  {
   "cell_type": "code",
   "execution_count": 15,
   "id": "dfbde33b",
   "metadata": {},
   "outputs": [
    {
     "name": "stdout",
     "output_type": "stream",
     "text": [
      "Enter a no 12\n",
      "12 * 1 = 12\n",
      "12 * 2 = 24\n",
      "12 * 3 = 36\n",
      "12 * 4 = 48\n",
      "12 * 5 = 60\n",
      "12 * 6 = 72\n",
      "12 * 7 = 84\n",
      "12 * 8 = 96\n",
      "12 * 9 = 108\n",
      "12 * 10 = 120\n"
     ]
    }
   ],
   "source": [
    "n = int(input(\"Enter a no \"))\n",
    "for i in range(1,11):\n",
    "    print(n,\"*\",i, \"=\", n*i)"
   ]
  },
  {
   "cell_type": "code",
   "execution_count": null,
   "id": "4e435a51",
   "metadata": {},
   "outputs": [],
   "source": [
    "3. Write a Python Program to Print the Fibonacci sequence?"
   ]
  },
  {
   "cell_type": "code",
   "execution_count": 9,
   "id": "f573176f",
   "metadata": {},
   "outputs": [
    {
     "name": "stdout",
     "output_type": "stream",
     "text": [
      "Enter a no 8\n",
      "0\n",
      "1\n",
      "1\n",
      "2\n",
      "3\n",
      "5\n",
      "8\n",
      "13\n"
     ]
    }
   ],
   "source": [
    "number = int(input(\"Enter a no \"))\n",
    "a = 0\n",
    "b = 1\n",
    "count = 0\n",
    "while count < number:\n",
    "    print(a)\n",
    "    n = a + b\n",
    "    a = b\n",
    "    b = n\n",
    "    count += 1"
   ]
  },
  {
   "cell_type": "code",
   "execution_count": null,
   "id": "946c4880",
   "metadata": {},
   "outputs": [],
   "source": [
    "4. Write a Python Program to Check Armstrong Number?"
   ]
  },
  {
   "cell_type": "code",
   "execution_count": 5,
   "id": "5ed2227d",
   "metadata": {},
   "outputs": [
    {
     "name": "stdout",
     "output_type": "stream",
     "text": [
      "Enter a no 407\n",
      "407  is a Armstrong number\n"
     ]
    }
   ],
   "source": [
    "n = int(input(\"Enter a no \"))\n",
    "s = 0\n",
    "temp = n\n",
    "while temp > 0:\n",
    "    r = temp%10\n",
    "    s += r**3\n",
    "    temp//=10\n",
    "if s == n:\n",
    "    print(n,\" is a Armstrong number\")\n",
    "else :\n",
    "    print(n,\"is not a Armstrong number\")"
   ]
  },
  {
   "cell_type": "code",
   "execution_count": null,
   "id": "1f8b9428",
   "metadata": {},
   "outputs": [],
   "source": [
    "5. Write a Python Program to Find Armstrong Number in an Interval?"
   ]
  },
  {
   "cell_type": "code",
   "execution_count": 9,
   "id": "788e6e6b",
   "metadata": {},
   "outputs": [
    {
     "name": "stdout",
     "output_type": "stream",
     "text": [
      "153  is a Armstrong number\n",
      "370  is a Armstrong number\n",
      "371  is a Armstrong number\n",
      "407  is a Armstrong number\n",
      "1634  is a Armstrong number\n"
     ]
    }
   ],
   "source": [
    "l = 100\n",
    "u = 2000\n",
    "for num in range(l,u+1):\n",
    "    order = len(str(num))\n",
    "    s = 0\n",
    "    temp = num\n",
    "    while temp > 0:\n",
    "        r = temp%10\n",
    "        s += r ** order\n",
    "        temp//=10\n",
    "    if s == num:\n",
    "        print(num,\" is a Armstrong number\")"
   ]
  },
  {
   "cell_type": "code",
   "execution_count": null,
   "id": "a4e4296d",
   "metadata": {},
   "outputs": [],
   "source": [
    "6. Write a Python Program to Find the Sum of Natural Numbers?"
   ]
  },
  {
   "cell_type": "code",
   "execution_count": 13,
   "id": "f1575efd",
   "metadata": {},
   "outputs": [
    {
     "name": "stdout",
     "output_type": "stream",
     "text": [
      "Enter a positive no 10\n",
      "The sum is 55\n"
     ]
    }
   ],
   "source": [
    "n = int(input(\"Enter a positive no \"))\n",
    "s = 0\n",
    "if n < 0:\n",
    "    print(\"Please enter a positive no\")\n",
    "else:\n",
    "    while n > 0:\n",
    "        s += n\n",
    "        n -= 1\n",
    "    print(\"The sum is\", s)"
   ]
  }
 ],
 "metadata": {
  "kernelspec": {
   "display_name": "Python 3 (ipykernel)",
   "language": "python",
   "name": "python3"
  },
  "language_info": {
   "codemirror_mode": {
    "name": "ipython",
    "version": 3
   },
   "file_extension": ".py",
   "mimetype": "text/x-python",
   "name": "python",
   "nbconvert_exporter": "python",
   "pygments_lexer": "ipython3",
   "version": "3.9.7"
  }
 },
 "nbformat": 4,
 "nbformat_minor": 5
}
